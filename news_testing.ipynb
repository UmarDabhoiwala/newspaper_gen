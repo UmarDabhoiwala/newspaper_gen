{
 "cells": [
  {
   "cell_type": "code",
   "execution_count": 9,
   "metadata": {},
   "outputs": [],
   "source": [
    "# Australian news sites\n",
    "\n",
    "import csv\n",
    "import requests\n",
    "from bs4 import BeautifulSoup\n",
    "import anthropic\n",
    "import re\n",
    "\n",
    "\n",
    "import API_KEYS"
   ]
  },
  {
   "cell_type": "code",
   "execution_count": 10,
   "metadata": {},
   "outputs": [],
   "source": [
    "GUARDIAN_API_KEY = API_KEYS.GUARDIAN_API_KEY\n",
    "ANTHROPIC_API_KEY = API_KEYS.ANTHROPIC_API_KEY"
   ]
  },
  {
   "cell_type": "code",
   "execution_count": 11,
   "metadata": {},
   "outputs": [],
   "source": [
    "url = f\"https://content.guardianapis.com/search?section=australia-news&api-key={GUARDIAN_API_KEY}\"\n",
    "response = requests.get(url)\n",
    "\n",
    "\n",
    "# Check if the request was successful\n",
    "if response.status_code == 200:\n",
    "\n",
    "    data = response.json()\n",
    "\n",
    "    results = data[\"response\"][\"results\"]\n",
    "else:\n",
    "    print(f\"Failed to fetch data: {response.status_code}\")"
   ]
  },
  {
   "cell_type": "code",
   "execution_count": null,
   "metadata": {},
   "outputs": [],
   "source": [
    "client = anthropic.Anthropic(\n",
    "    api_key=ANTHROPIC_API_KEY\n",
    ")"
   ]
  },
  {
   "cell_type": "code",
   "execution_count": null,
   "metadata": {},
   "outputs": [],
   "source": [
    "def extract_title_and_content(input_text):\n",
    "    # Extract title using regular expression\n",
    "    title_match = re.search(r'title:\\{(.*?)\\}', input_text, re.DOTALL)\n",
    "    title = title_match.group(1).strip() if title_match else \"Title not found\"\n",
    "\n",
    "    # Extract content using regular expression\n",
    "    content_match = re.search(r'content:\\{(.*?)\\}', input_text, re.DOTALL)\n",
    "    content = content_match.group(1).strip() if content_match else \"Content not found\"\n",
    "\n",
    "    return title, content"
   ]
  },
  {
   "cell_type": "code",
   "execution_count": 48,
   "metadata": {},
   "outputs": [],
   "source": [
    "def summarise_news_article(title, content) -> list[str, str]:\n",
    "    system_prompt = \"\"\"\n",
    "\n",
    "    You are a expert journalist, who writes in a beautiful narrative style.\n",
    "    Given a news title and content you are to write your own story using that information.\n",
    "\n",
    "    title:{title}\n",
    "\n",
    "    content:{content}\n",
    "\n",
    "    \"\"\"\n",
    "\n",
    "\n",
    "    user_prompt = f\"\"\"\n",
    "\n",
    "    Write your own story based on this news story\n",
    "\n",
    "    title:{title}\n",
    "\n",
    "    content:{content}\n",
    "\n",
    "    Return your story in this exact format, Surrond the title and Content with Curly Braces\n",
    "\n",
    "    title:{\"Story Here\"}\n",
    "    content:{\"Content Here\"}\n",
    "\n",
    "\n",
    "    \"\"\"\n",
    "\n",
    "    message = client.messages.create(\n",
    "        model=\"claude-3-opus-20240229\",\n",
    "        max_tokens=1000,\n",
    "        temperature=0,\n",
    "        system=system_prompt,\n",
    "        messages=[\n",
    "            {\n",
    "                \"role\": \"user\",\n",
    "                \"content\": [\n",
    "                    {\n",
    "                        \"type\": \"text\",\n",
    "                        \"text\": user_prompt\n",
    "                    }\n",
    "                ]\n",
    "            },\n",
    "        ]\n",
    "    )\n",
    "\n",
    "    response = message.content\n",
    "\n",
    "    AI_title, AI_content = extract_title_and_content(response[0].text)\n",
    "    return AI_title, AI_content\n"
   ]
  },
  {
   "cell_type": "code",
   "execution_count": 49,
   "metadata": {},
   "outputs": [
    {
     "name": "stdout",
     "output_type": "stream",
     "text": [
      "Scraping Complete\n"
     ]
    }
   ],
   "source": [
    "with open(\"guardian_news_results.csv\" ,\"w\") as file:\n",
    "    writer = csv.writer(file)\n",
    "\n",
    "    writer.writerow([\"title\", \"date\", \"url\", \"full_text\",\"ai_title\",\"ai_content\"])\n",
    "\n",
    "    for result in results:\n",
    "\n",
    "        title = result[\"webTitle\"]\n",
    "        date = result[\"webPublicationDate\"]\n",
    "        date = date[:10] #trim off extra time information\n",
    "        url = result[\"webUrl\"]\n",
    "\n",
    "        # Scrape the text of the article\n",
    "        headers = {'User-Agent': \"Mozilla/5.0 (X11; Linux x86_64) AppleWebKit/537.36 (KHTML, like Gecko) Chrome/122.0.0.0 Safari/537.36\"}\n",
    "        response = requests.get(url, headers=headers)\n",
    "        page_soup = BeautifulSoup(response.content, features=\"html.parser\")\n",
    "\n",
    "\n",
    "        full_text = \"\"\n",
    "\n",
    "        for x in page_soup.find_all('p'):\n",
    "            full_text = full_text + x.get_text() + \"\\n\"\n",
    "\n",
    "\n",
    "        ai_title, ai_content = summarise_news_article(title, full_text)\n",
    "\n",
    "\n",
    "        writer.writerow([\n",
    "            title,\n",
    "            date,\n",
    "            url,\n",
    "            full_text,\n",
    "            ai_title,\n",
    "            ai_content,\n",
    "        ])\n",
    "\n",
    "print(\"Scraping Complete\")"
   ]
  }
 ],
 "metadata": {
  "kernelspec": {
   "display_name": "ai",
   "language": "python",
   "name": "python3"
  },
  "language_info": {
   "codemirror_mode": {
    "name": "ipython",
    "version": 3
   },
   "file_extension": ".py",
   "mimetype": "text/x-python",
   "name": "python",
   "nbconvert_exporter": "python",
   "pygments_lexer": "ipython3",
   "version": "3.11.3"
  }
 },
 "nbformat": 4,
 "nbformat_minor": 2
}
